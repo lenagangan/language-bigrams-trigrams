{
 "cells": [
  {
   "cell_type": "markdown",
   "metadata": {},
   "source": [
    "First, let's create a function that takes as a parameter a text file and outputs the dictionary of the letter frequency"
   ]
  },
  {
   "cell_type": "code",
   "execution_count": 353,
   "metadata": {},
   "outputs": [
    {
     "name": "stdout",
     "output_type": "stream",
     "text": [
      "{'â': 1, 'ö': 1, 'à': 1, 'ë': 1, 'å': 1, 'ê': 2, 'ü': 3, 'ô': 4, 'æ': 5, 'è': 21, 'ç': 26, 'z': 143, 'é': 150, 'q': 169, 'x': 362, 'j': 381, 'k': 752, 'v': 1981, 'b': 2158, 'y': 2165, 'w': 2182, 'g': 2514, 'm': 3331, 'f': 3554, 'p': 3602, 'u': 4025, 'c': 5266, 'd': 5346, 'l': 6279, 'h': 6553, 's': 8271, 'r': 9922, 'a': 10366, 'i': 10612, 'n': 10698, 'o': 11104, 't': 12315, 'e': 17346, ' ': 24850}\n"
     ]
    }
   ],
   "source": [
    "import re\n",
    "import codecs\n",
    "\n",
    "def letters(text_file):\n",
    "    with codecs.open(text_file, 'r') as file:\n",
    "        # remove newline characters and lowercase all the letters\n",
    "        data = file.read().replace('\\n', '').lower()\n",
    "        #remove all special characters and numbers; leave letters only\n",
    "        data = re.sub('[^A-Za-zÀ-ÿ×Þß÷þø ]+', '', data)\n",
    "        # sanity check print (data)\n",
    "        #create a dictionary with all the letters and populate it\n",
    "        letters = {}\n",
    "        for i in data:\n",
    "            if i in letters:\n",
    "                letters[i] +=1\n",
    "            else:\n",
    "                letters[i] = 1\n",
    "    #sort dict ascending from least freq letter to most freq\n",
    "    letters = {k: v for k, v in sorted(letters.items(), key=lambda item: item[1])}\n",
    "    return letters\n",
    "\n",
    "print (letters('French Revolution - Wikipedia.txt'))"
   ]
  },
  {
   "cell_type": "markdown",
   "metadata": {},
   "source": [
    "Create a function that counts all the bigrams in the given text"
   ]
  },
  {
   "cell_type": "code",
   "execution_count": 365,
   "metadata": {},
   "outputs": [],
   "source": [
    "import re\n",
    "\n",
    "def bigrams(text_file):\n",
    "    with open(text_file, 'r') as file:\n",
    "        # remove newline characters and lowercase all the letters\n",
    "        data = file.read().replace('\\n', '').lower()\n",
    "        #remove all special characters and numbers; leave letters only\n",
    "        data = re.sub('[^A-Za-zÀ-ÿ×Þß÷þø ]+', '', data)\n",
    "        # sanity check print (data)\n",
    "        num = -1\n",
    "        #create a dictionary with all bigrams and populate it\n",
    "        bigrams = {}\n",
    "        for i in data:\n",
    "            num +=1\n",
    "            #ensure to calculate bigrams that contain letters only(no empty space)\n",
    "            if ' ' in data[num:num+2]:\n",
    "                continue\n",
    "            if data[num:num+2] in bigrams:\n",
    "                bigrams[data[num:num+2]] += 1\n",
    "            else:\n",
    "                bigrams[data[num:num+2]] = 1\n",
    "         #sort dict ascending from least freq letter to most freq\n",
    "        bigrams = {k: v for k, v in sorted(bigrams.items(), key=lambda item: item[1])}\n",
    "        return bigrams\n",
    "\n",
    "#print (bigrams('French Revolution - Wikipedia.txt'))"
   ]
  },
  {
   "cell_type": "markdown",
   "metadata": {},
   "source": [
    "Finally, create a function that calculates trigrams"
   ]
  },
  {
   "cell_type": "code",
   "execution_count": 366,
   "metadata": {},
   "outputs": [],
   "source": [
    "import re\n",
    "def trigrams(text_file):\n",
    "    with open(text_file, 'r') as file:\n",
    "        data = file.read().replace('\\n', '').lower()\n",
    "        data = re.sub('[^A-Za-zÀ-ÿ×Þß÷þø ]+', '', data)\n",
    "        #print (data)\n",
    "        num = -1\n",
    "        trigrams = {}\n",
    "        for i in data:\n",
    "            num +=1\n",
    "            if ' ' in data[num:num+3]:\n",
    "                continue\n",
    "            if data[num:num+3] in trigrams:\n",
    "                trigrams[data[num:num+3]] += 1\n",
    "            else:\n",
    "                trigrams[data[num:num+3]] = 1\n",
    "        trigrams = {k: v for k, v in sorted(trigrams.items(), key=lambda item: item[1])}\n",
    "        return trigrams\n",
    "\n",
    "#print (trigrams('French Revolution - Wikipedia.txt'))"
   ]
  },
  {
   "cell_type": "markdown",
   "metadata": {},
   "source": [
    "Now, let's get the most \"popular\" items for each language"
   ]
  },
  {
   "cell_type": "code",
   "execution_count": 358,
   "metadata": {},
   "outputs": [
    {
     "name": "stdout",
     "output_type": "stream",
     "text": [
      "[('Revolución francesa - Wikipedia.txt', {'ë': 1, 'ü': 1, 'è': 7, 'ç': 8, 'ñ': 31, 'ú': 40, 'á': 76, 'k': 87, 'x': 90, 'z': 97, 'w': 108, 'é': 111, 'j': 174, 'í': 240, 'q': 251, 'h': 314, 'y': 364, 'f': 414, 'ó': 441, 'v': 491, 'g': 502, 'b': 721, 'm': 974, 'p': 1092, 'u': 1513, 't': 1733, 'c': 1968, 'd': 1978, 'l': 2627, 'r': 2725, 'n': 2731, 's': 2759, 'i': 2830, 'o': 3291, 'a': 4617, 'e': 5071, ' ': 6809}), ('Französische Revolution – Wikipedia.txt', {'ê': 1, 'â': 1, 'ë': 2, 'ô': 2, 'è': 15, 'ç': 29, 'q': 31, 'é': 81, 'x': 94, 'y': 101, 'ß': 160, 'j': 250, 'ö': 506, 'ä': 583, 'ü': 592, 'p': 1124, 'w': 1309, 'z': 1391, 'v': 1556, 'k': 1625, 'b': 1940, 'f': 2013, 'm': 2422, 'c': 2881, 'g': 3455, 'o': 3509, 'l': 4069, 'h': 4099, 'u': 4575, 'd': 5342, 'a': 5842, 't': 6417, 's': 6546, 'r': 8348, 'i': 8806, 'n': 10482, ' ': 15251, 'e': 16629}), ('French Revolution - Wikipedia.txt', {'â': 1, 'ö': 1, 'à': 1, 'ë': 1, 'å': 1, 'ê': 2, 'ü': 3, 'ô': 4, 'æ': 5, 'è': 21, 'ç': 26, 'z': 143, 'é': 150, 'q': 169, 'x': 362, 'j': 381, 'k': 752, 'v': 1981, 'b': 2158, 'y': 2165, 'w': 2182, 'g': 2514, 'm': 3331, 'f': 3554, 'p': 3602, 'u': 4025, 'c': 5266, 'd': 5346, 'l': 6279, 'h': 6553, 's': 8271, 'r': 9922, 'a': 10366, 'i': 10612, 'n': 10698, 'o': 11104, 't': 12315, 'e': 17346, ' ': 24850}), ('Revoluția franceză - Wikipedia.txt', {'ê': 1, 'ô': 2, 'æ': 2, 'ç': 3, 'q': 24, 'é': 29, 'y': 116, 'k': 180, 'w': 208, 'x': 228, 'j': 284, 'â': 514, 'h': 574, 'z': 915, 'î': 1084, 'g': 1375, 'b': 1485, 'v': 1616, 'f': 1697, 'm': 3028, 'p': 4011, 'd': 4207, 's': 4718, 'c': 5467, 'o': 6208, 'l': 6655, 'u': 7564, 't': 7599, 'n': 8171, 'r': 10685, 'a': 13461, 'e': 14679, 'i': 15139, ' ': 21179})]\n"
     ]
    }
   ],
   "source": [
    "wiki = ['Revolución francesa - Wikipedia.txt','Französische Revolution – Wikipedia.txt','French Revolution - Wikipedia.txt','Revoluția franceză - Wikipedia.txt']\n",
    "def get_size(funct,wiki):\n",
    "    \"\"\"Takes as argument a function and returns a list of dictionaries for all the\n",
    "    letters/bigrams/trigrams in the language text corpus\n",
    "    \"\"\"\n",
    "    l = []\n",
    "    for i in wiki:\n",
    "        l.append((i,funct(i)))\n",
    "    return l\n",
    "# sanity chech with lettes function\n",
    "print (get_size(letters, wiki))"
   ]
  },
  {
   "cell_type": "markdown",
   "metadata": {},
   "source": [
    "Get the most popular 10 letters/bigrams/trigrams"
   ]
  },
  {
   "cell_type": "code",
   "execution_count": 359,
   "metadata": {},
   "outputs": [],
   "source": [
    "def get_popular(all_list):\n",
    "    all_languages = {}\n",
    "    for i in all_list:\n",
    "        a1_sorted_keys = sorted(i[1], key=i[1].get, reverse=True)\n",
    "        popular = []\n",
    "        for r in a1_sorted_keys:\n",
    "            popular.append((r, i[1][r]))\n",
    "        all_languages[i[0]] = (popular[:11])\n",
    "    return all_languages"
   ]
  },
  {
   "cell_type": "code",
   "execution_count": 360,
   "metadata": {},
   "outputs": [
    {
     "name": "stdout",
     "output_type": "stream",
     "text": [
      "{'Revolución francesa - Wikipedia.txt': [(' ', 6809), ('e', 5071), ('a', 4617), ('o', 3291), ('i', 2830), ('s', 2759), ('n', 2731), ('r', 2725), ('l', 2627), ('d', 1978), ('c', 1968)], 'Französische Revolution – Wikipedia.txt': [('e', 16629), (' ', 15251), ('n', 10482), ('i', 8806), ('r', 8348), ('s', 6546), ('t', 6417), ('a', 5842), ('d', 5342), ('u', 4575), ('h', 4099)], 'French Revolution - Wikipedia.txt': [(' ', 24850), ('e', 17346), ('t', 12315), ('o', 11104), ('n', 10698), ('i', 10612), ('a', 10366), ('r', 9922), ('s', 8271), ('h', 6553), ('l', 6279)], 'Revoluția franceză - Wikipedia.txt': [(' ', 21179), ('i', 15139), ('e', 14679), ('a', 13461), ('r', 10685), ('n', 8171), ('t', 7599), ('u', 7564), ('l', 6655), ('o', 6208), ('c', 5467)]}\n"
     ]
    }
   ],
   "source": [
    "print (get_popular(get_size(letters, wiki)))\n",
    "# print (get_popular(get_size(bigrams, wiki)))\n",
    "# print(get_popular(get_size(trigrams, wiki)))"
   ]
  },
  {
   "cell_type": "code",
   "execution_count": 361,
   "metadata": {},
   "outputs": [
    {
     "name": "stdout",
     "output_type": "stream",
     "text": [
      "{'spanish': ('de', 'es', 'la', 're', 'en', 'ci', 'er', 'ra', 'os', 'on', 'an'), 'german': ('en', 'er', 'ch', 'de', 'te', 'ie', 'ei', 'un', 're', 'ge', 'in'), 'english': ('th', 'he', 're', 'on', 'an', 'in', 'ti', 'er', 'en', 'ed', 'io'), 'romanian': ('re', 'ri', 'ar', 'de', 'in', 'er', 'ra', 'le', 'te', 'or', 'at')}\n"
     ]
    }
   ],
   "source": [
    "#print popular items in a pretty dictionary by language\n",
    "def get_lang_popular_items (funct, wiki):\n",
    "    from itertools import chain\n",
    "    d = get_popular(get_size(funct, wiki))\n",
    "    xs, ys = zip(*chain.from_iterable(d.values()))\n",
    "    #in this order\n",
    "    spanish = xs[:11]\n",
    "    german = xs[11:22]\n",
    "    english = xs[22:33]\n",
    "    romanian = xs[33:]\n",
    "    \n",
    "    languages = {'spanish':spanish,\n",
    "                 'german':german,\n",
    "                 'english':english,\n",
    "                 'romanian':romanian}\n",
    "    return languages\n",
    "\n",
    "print (get_lang_popular_items (bigrams, wiki))"
   ]
  },
  {
   "cell_type": "markdown",
   "metadata": {},
   "source": [
    "Letters:\n",
    "    As we can see the most popular letters for \n",
    "        Spanish: e, a, o, i, s, n, r, l, d\n",
    "        Romanian:i, e, a, r, n, t, u, l, o\n",
    "        German:  e, n, i, r, s, t, a, d, u\n",
    "        English: e, t, o, n, i, a, r, s, h\n",
    "We can notice that for Latin languages vowls are generally more popular\n",
    "\n",
    "Bigrams:\n",
    "        As we can see the most popular bigrams for \n",
    "        Spanish: de, es, la, re, en, ci, er, la\n",
    "        Romanian:re, ri, ar, de, in, er, re, le\n",
    "        German:  en, er, ch, de, te, ei, en, un\n",
    "        English: th, he, re, on, an, in, ti, er\n",
    "Again, consonantes prevail in Germanic languages. also true for trigrams"
   ]
  },
  {
   "cell_type": "markdown",
   "metadata": {},
   "source": [
    "Now let's take a text and try to identify its language based on the most popular letters/bigrams/trigrams present"
   ]
  },
  {
   "cell_type": "code",
   "execution_count": 362,
   "metadata": {},
   "outputs": [],
   "source": [
    "#get the most popular word/bigra/trigram in text\n",
    "def text_get_popular_items(funct, word_doc):\n",
    "    from itertools import chain\n",
    "    d = get_popular(get_size(funct, word_doc))\n",
    "    xs, ys = zip(*chain.from_iterable(d.values()))\n",
    "    return xs"
   ]
  },
  {
   "cell_type": "code",
   "execution_count": 363,
   "metadata": {},
   "outputs": [
    {
     "name": "stdout",
     "output_type": "stream",
     "text": [
      "('he', 'th', 'in', 'er', 'an', 'ou', 'it', 'nd', 'at', 're', 'on')\n"
     ]
    }
   ],
   "source": [
    "#get an example\n",
    "word_doc = ['alice_eng.txt']\n",
    "alice = text_get_popular_items(bigrams, word_doc)\n",
    "print (alice)"
   ]
  },
  {
   "cell_type": "markdown",
   "metadata": {},
   "source": [
    "In order to understrand what languages the text is refering to, we will compare the lists of the most frequent terms.The assumption that we will make is that the order of the items in the list is not imortant (BOW approach)"
   ]
  },
  {
   "cell_type": "code",
   "execution_count": 364,
   "metadata": {},
   "outputs": [
    {
     "name": "stdout",
     "output_type": "stream",
     "text": [
      "The text is probably in: english\n"
     ]
    }
   ],
   "source": [
    "popular_bigrams = (get_lang_popular_items (bigrams, wiki))\n",
    "score = []\n",
    "# search for similarties between items and get the max similarity\n",
    "for bigram in popular_bigrams:\n",
    "    score.append(len((set(alice).intersection(popular_bigrams[bigram]))))\n",
    "langs = list(popular_bigrams.keys())\n",
    "\n",
    "detected_language = langs[(score.index(max(score)))]\n",
    "\n",
    "print (\"The text is probably in:\", detected_language)"
   ]
  }
 ],
 "metadata": {
  "kernelspec": {
   "display_name": "Python 3",
   "language": "python",
   "name": "python3"
  },
  "language_info": {
   "codemirror_mode": {
    "name": "ipython",
    "version": 3
   },
   "file_extension": ".py",
   "mimetype": "text/x-python",
   "name": "python",
   "nbconvert_exporter": "python",
   "pygments_lexer": "ipython3",
   "version": "3.7.4"
  }
 },
 "nbformat": 4,
 "nbformat_minor": 2
}
